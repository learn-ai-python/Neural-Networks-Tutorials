{
 "cells": [
  {
   "cell_type": "markdown",
   "id": "6e59dcf4",
   "metadata": {
    "papermill": {
     "duration": 0.006445,
     "end_time": "2022-09-05T17:51:46.911673",
     "exception": false,
     "start_time": "2022-09-05T17:51:46.905228",
     "status": "completed"
    },
    "pycharm": {
     "name": "#%% md\n"
    },
    "tags": []
   },
   "source": [
    "# Multi-layer Perceptron (MLP) Classifier | sklearn\n",
    "Hi! In this my new notebook we're going to learn how to use sklearn **MLP Classifier**.\n",
    "\n",
    "## 🥰 Acknowledgements\n",
    "[Sklearn Classification with MLP](https://scikit-learn.org/stable/modules/neural_networks_supervised.html#classification)."
   ]
  },
  {
   "cell_type": "markdown",
   "id": "6d6ea78e",
   "metadata": {
    "papermill": {
     "duration": 0.004209,
     "end_time": "2022-09-05T17:51:46.921511",
     "exception": false,
     "start_time": "2022-09-05T17:51:46.917302",
     "status": "completed"
    },
    "pycharm": {
     "name": "#%% md\n"
    },
    "tags": []
   },
   "source": [
    "# 💡 Problem Formulation\n",
    "Let's say that we need to model *Y=X1⋀X2⋀X3* function. As you can see, we have three variables and one output. So, we have *0* or *1* in output. Thats will be our two classes.\n",
    "\n",
    "| X1 | X2 | X3 | Y = X1⋀X2⋀X3     |\n",
    "|----|----|----|------------------|\n",
    "| 0  | 0  | 0  | **0**            |\n",
    "| 0  | 0  | 1  | **0**            |\n",
    "| 0  | 1  | 0  | **0**            |\n",
    "| 0  | 1  | 1  | **0**            |\n",
    "| 1  | 0  | 0  | **0**            |\n",
    "| 1  | 0  | 1  | **0**            |\n",
    "| 1  | 1  | 0  | **0**            |\n",
    "| 1  | 1  | 1  | **1**            |"
   ]
  },
  {
   "cell_type": "markdown",
   "id": "011ac72b",
   "metadata": {
    "papermill": {
     "duration": 0.00442,
     "end_time": "2022-09-05T17:51:46.930627",
     "exception": false,
     "start_time": "2022-09-05T17:51:46.926207",
     "status": "completed"
    },
    "pycharm": {
     "name": "#%% md\n"
    },
    "tags": []
   },
   "source": [
    "# 📚 Libraries"
   ]
  },
  {
   "cell_type": "code",
   "execution_count": 1,
   "id": "c09bcec2",
   "metadata": {
    "execution": {
     "iopub.execute_input": "2022-09-05T17:51:46.942094Z",
     "iopub.status.busy": "2022-09-05T17:51:46.941356Z",
     "iopub.status.idle": "2022-09-05T17:51:48.055480Z",
     "shell.execute_reply": "2022-09-05T17:51:48.054249Z"
    },
    "papermill": {
     "duration": 1.123195,
     "end_time": "2022-09-05T17:51:48.058564",
     "exception": false,
     "start_time": "2022-09-05T17:51:46.935369",
     "status": "completed"
    },
    "pycharm": {
     "name": "#%%\n"
    },
    "tags": []
   },
   "outputs": [],
   "source": [
    "from sklearn.neural_network import MLPClassifier"
   ]
  },
  {
   "cell_type": "markdown",
   "id": "e914f26f",
   "metadata": {
    "papermill": {
     "duration": 0.00427,
     "end_time": "2022-09-05T17:51:48.067511",
     "exception": false,
     "start_time": "2022-09-05T17:51:48.063241",
     "status": "completed"
    },
    "pycharm": {
     "name": "#%% md\n"
    },
    "tags": []
   },
   "source": [
    "# 💾 Data\n",
    "Here we have 8 lines of examples, each one have three variables (features)."
   ]
  },
  {
   "cell_type": "code",
   "execution_count": 2,
   "id": "dfa0dee2",
   "metadata": {
    "execution": {
     "iopub.execute_input": "2022-09-05T17:51:48.078364Z",
     "iopub.status.busy": "2022-09-05T17:51:48.077959Z",
     "iopub.status.idle": "2022-09-05T17:51:48.084117Z",
     "shell.execute_reply": "2022-09-05T17:51:48.083178Z"
    },
    "papermill": {
     "duration": 0.014222,
     "end_time": "2022-09-05T17:51:48.086366",
     "exception": false,
     "start_time": "2022-09-05T17:51:48.072144",
     "status": "completed"
    },
    "pycharm": {
     "name": "#%%\n"
    },
    "tags": []
   },
   "outputs": [],
   "source": [
    "X = [\n",
    "     [0., 0., 0.],\n",
    "     [0., 0., 1.], \n",
    "     [0., 1., 0.], \n",
    "     [0., 1., 1.], \n",
    "     [1., 0., 0.], \n",
    "     [1., 0., 1.],\n",
    "     [1., 1., 0.],\n",
    "     [1., 1., 1.]\n",
    "    ]"
   ]
  },
  {
   "cell_type": "markdown",
   "id": "ed16c828",
   "metadata": {
    "papermill": {
     "duration": 0.00412,
     "end_time": "2022-09-05T17:51:48.094911",
     "exception": false,
     "start_time": "2022-09-05T17:51:48.090791",
     "status": "completed"
    },
    "pycharm": {
     "name": "#%% md\n"
    },
    "tags": []
   },
   "source": [
    "Here we have 8 results for each example."
   ]
  },
  {
   "cell_type": "code",
   "execution_count": 3,
   "id": "52a40dbf",
   "metadata": {
    "execution": {
     "iopub.execute_input": "2022-09-05T17:51:48.105573Z",
     "iopub.status.busy": "2022-09-05T17:51:48.105165Z",
     "iopub.status.idle": "2022-09-05T17:51:48.110454Z",
     "shell.execute_reply": "2022-09-05T17:51:48.109153Z"
    },
    "papermill": {
     "duration": 0.013563,
     "end_time": "2022-09-05T17:51:48.112874",
     "exception": false,
     "start_time": "2022-09-05T17:51:48.099311",
     "status": "completed"
    },
    "pycharm": {
     "name": "#%%\n"
    },
    "tags": []
   },
   "outputs": [],
   "source": [
    "y = [0, \n",
    "     0,\n",
    "     0,\n",
    "     0,\n",
    "     0,\n",
    "     0,\n",
    "     0,\n",
    "     1]"
   ]
  },
  {
   "cell_type": "markdown",
   "id": "01d24860",
   "metadata": {
    "papermill": {
     "duration": 0.00481,
     "end_time": "2022-09-05T17:51:48.122447",
     "exception": false,
     "start_time": "2022-09-05T17:51:48.117637",
     "status": "completed"
    },
    "pycharm": {
     "name": "#%% md\n"
    },
    "tags": []
   },
   "source": [
    "# 💎 Classifier itself\n",
    "Class **MLPClassifier** implements a **multi-layer perceptron (MLP)** algorithm that trains using **[backpropagation](https://en.wikipedia.org/wiki/Backpropagation)** algorithm.\n",
    "\n",
    "[MLP](https://scikit-learn.org/stable/modules/neural_networks_supervised.html#classification) trains on two arrays: array X of size *(n_samples, n_features)*, which holds the training samples represented as floating point feature vectors; and array y of size *(n_samples,)*, which holds the target values (class labels) for the training samples.\n",
    "\n",
    "Here we'll have three **hidden layers**: first hidden layer will have 7 neurons, second 5 and third 3. You can exprement with different number of hidden layers and different number of neurons on them."
   ]
  },
  {
   "cell_type": "code",
   "execution_count": 4,
   "id": "3aad7496",
   "metadata": {
    "execution": {
     "iopub.execute_input": "2022-09-05T17:51:48.134393Z",
     "iopub.status.busy": "2022-09-05T17:51:48.133227Z",
     "iopub.status.idle": "2022-09-05T17:51:48.139637Z",
     "shell.execute_reply": "2022-09-05T17:51:48.138496Z"
    },
    "papermill": {
     "duration": 0.014797,
     "end_time": "2022-09-05T17:51:48.142086",
     "exception": false,
     "start_time": "2022-09-05T17:51:48.127289",
     "status": "completed"
    },
    "pycharm": {
     "name": "#%%\n"
    },
    "tags": []
   },
   "outputs": [],
   "source": [
    "clf = MLPClassifier(solver='lbfgs', \n",
    "                    alpha=1e-5, \n",
    "                    hidden_layer_sizes=(7, 5, 3), \n",
    "                    random_state=1)"
   ]
  },
  {
   "cell_type": "markdown",
   "id": "0897d526",
   "metadata": {
    "papermill": {
     "duration": 0.004457,
     "end_time": "2022-09-05T17:51:48.151320",
     "exception": false,
     "start_time": "2022-09-05T17:51:48.146863",
     "status": "completed"
    },
    "pycharm": {
     "name": "#%% md\n"
    },
    "tags": []
   },
   "source": [
    "Here we train our model:"
   ]
  },
  {
   "cell_type": "code",
   "execution_count": 5,
   "id": "e88630e3",
   "metadata": {
    "execution": {
     "iopub.execute_input": "2022-09-05T17:51:48.162521Z",
     "iopub.status.busy": "2022-09-05T17:51:48.162124Z",
     "iopub.status.idle": "2022-09-05T17:51:48.198484Z",
     "shell.execute_reply": "2022-09-05T17:51:48.197253Z"
    },
    "papermill": {
     "duration": 0.045193,
     "end_time": "2022-09-05T17:51:48.201190",
     "exception": false,
     "start_time": "2022-09-05T17:51:48.155997",
     "status": "completed"
    },
    "pycharm": {
     "name": "#%%\n"
    },
    "tags": []
   },
   "outputs": [
    {
     "data": {
      "text/plain": [
       "MLPClassifier(alpha=1e-05, hidden_layer_sizes=(7, 5, 3), random_state=1,\n",
       "              solver='lbfgs')"
      ]
     },
     "execution_count": 5,
     "metadata": {},
     "output_type": "execute_result"
    }
   ],
   "source": [
    "clf.fit(X, y)"
   ]
  },
  {
   "cell_type": "markdown",
   "id": "d1551a76",
   "metadata": {
    "papermill": {
     "duration": 0.004429,
     "end_time": "2022-09-05T17:51:48.210415",
     "exception": false,
     "start_time": "2022-09-05T17:51:48.205986",
     "status": "completed"
    },
    "pycharm": {
     "name": "#%% md\n"
    },
    "tags": []
   },
   "source": [
    "Let's predict the results:\n",
    "\n",
    "| X1 | X2 | X3 | Y = X1⋀X2⋀X3     |\n",
    "|----|----|----|------------------|\n",
    "| 0  | 0  | 0  | **0**            |\n",
    "\n",
    "We have as input (0, 0, 0), and as output we receive (0). And everything is correct:"
   ]
  },
  {
   "cell_type": "code",
   "execution_count": 6,
   "id": "d34f3581",
   "metadata": {
    "execution": {
     "iopub.execute_input": "2022-09-05T17:51:48.222328Z",
     "iopub.status.busy": "2022-09-05T17:51:48.221165Z",
     "iopub.status.idle": "2022-09-05T17:51:48.228666Z",
     "shell.execute_reply": "2022-09-05T17:51:48.227879Z"
    },
    "papermill": {
     "duration": 0.015571,
     "end_time": "2022-09-05T17:51:48.230647",
     "exception": false,
     "start_time": "2022-09-05T17:51:48.215076",
     "status": "completed"
    },
    "pycharm": {
     "name": "#%%\n"
    },
    "tags": []
   },
   "outputs": [
    {
     "data": {
      "text/plain": [
       "array([0])"
      ]
     },
     "execution_count": 6,
     "metadata": {},
     "output_type": "execute_result"
    }
   ],
   "source": [
    "clf.predict([[0., 0., 0.]])"
   ]
  },
  {
   "cell_type": "markdown",
   "id": "93c86494",
   "metadata": {
    "papermill": {
     "duration": 0.00435,
     "end_time": "2022-09-05T17:51:48.239933",
     "exception": false,
     "start_time": "2022-09-05T17:51:48.235583",
     "status": "completed"
    },
    "pycharm": {
     "name": "#%% md\n"
    },
    "tags": []
   },
   "source": [
    "Let's predict the results:\n",
    "\n",
    "| X1 | X2 | X3 | Y = X1⋀X2⋀X3     |\n",
    "|----|----|----|------------------|\n",
    "| 0  | 0  | 1  | **0**            |\n",
    "\n",
    "We have as input (0, 0, 1), and as output we receive (0). And everything is correct:"
   ]
  },
  {
   "cell_type": "code",
   "execution_count": 7,
   "id": "7b25bdc3",
   "metadata": {
    "execution": {
     "iopub.execute_input": "2022-09-05T17:51:48.251805Z",
     "iopub.status.busy": "2022-09-05T17:51:48.251079Z",
     "iopub.status.idle": "2022-09-05T17:51:48.257573Z",
     "shell.execute_reply": "2022-09-05T17:51:48.256715Z"
    },
    "papermill": {
     "duration": 0.015131,
     "end_time": "2022-09-05T17:51:48.259762",
     "exception": false,
     "start_time": "2022-09-05T17:51:48.244631",
     "status": "completed"
    },
    "pycharm": {
     "name": "#%%\n"
    },
    "tags": []
   },
   "outputs": [
    {
     "data": {
      "text/plain": [
       "array([0])"
      ]
     },
     "execution_count": 7,
     "metadata": {},
     "output_type": "execute_result"
    }
   ],
   "source": [
    "clf.predict([[0., 0., 1.]])"
   ]
  },
  {
   "cell_type": "markdown",
   "id": "5e10ee12",
   "metadata": {
    "papermill": {
     "duration": 0.004764,
     "end_time": "2022-09-05T17:51:48.269534",
     "exception": false,
     "start_time": "2022-09-05T17:51:48.264770",
     "status": "completed"
    },
    "pycharm": {
     "name": "#%% md\n"
    },
    "tags": []
   },
   "source": [
    "Let's predict the results:\n",
    "\n",
    "| X1 | X2 | X3 | Y = X1⋀X2⋀X3     |\n",
    "|----|----|----|------------------|\n",
    "| 1  | 1  | 1  | **1**            |\n",
    "\n",
    "We have as input (1, 1, 1), and as output we receive (1). And everything is correct:"
   ]
  },
  {
   "cell_type": "code",
   "execution_count": 8,
   "id": "2d95918d",
   "metadata": {
    "execution": {
     "iopub.execute_input": "2022-09-05T17:51:48.289144Z",
     "iopub.status.busy": "2022-09-05T17:51:48.288323Z",
     "iopub.status.idle": "2022-09-05T17:51:48.296485Z",
     "shell.execute_reply": "2022-09-05T17:51:48.295517Z"
    },
    "papermill": {
     "duration": 0.025812,
     "end_time": "2022-09-05T17:51:48.301678",
     "exception": false,
     "start_time": "2022-09-05T17:51:48.275866",
     "status": "completed"
    },
    "pycharm": {
     "name": "#%%\n"
    },
    "tags": []
   },
   "outputs": [
    {
     "data": {
      "text/plain": [
       "array([1])"
      ]
     },
     "execution_count": 8,
     "metadata": {},
     "output_type": "execute_result"
    }
   ],
   "source": [
    "clf.predict([[1., 1., 1.]])"
   ]
  },
  {
   "cell_type": "markdown",
   "id": "9d001b4f",
   "metadata": {
    "papermill": {
     "duration": 0.004833,
     "end_time": "2022-09-05T17:51:48.313468",
     "exception": false,
     "start_time": "2022-09-05T17:51:48.308635",
     "status": "completed"
    },
    "pycharm": {
     "name": "#%% md\n"
    },
    "tags": []
   },
   "source": [
    "# Conclusion\n",
    "As you can see, we received all correct answers. That is all and thank you for your attention. \n",
    "\n",
    "## If you liked it, please, make an upvote 💖\n",
    "\n",
    "## Visit [My YouTube Channel \"Learn AI\"](https://www.youtube.com/channel/UCEJ8IRbmEl3tEZahc17pwrw) 🎥"
   ]
  }
 ],
 "metadata": {
  "kernelspec": {
   "display_name": "Python 3 (ipykernel)",
   "language": "python",
   "name": "python3"
  },
  "language_info": {
   "codemirror_mode": {
    "name": "ipython",
    "version": 3
   },
   "file_extension": ".py",
   "mimetype": "text/x-python",
   "name": "python",
   "nbconvert_exporter": "python",
   "pygments_lexer": "ipython3",
   "version": "3.9.7"
  },
  "papermill": {
   "default_parameters": {},
   "duration": 11.263368,
   "end_time": "2022-09-05T17:51:49.142006",
   "environment_variables": {},
   "exception": null,
   "input_path": "__notebook__.ipynb",
   "output_path": "__notebook__.ipynb",
   "parameters": {},
   "start_time": "2022-09-05T17:51:37.878638",
   "version": "2.3.4"
  }
 },
 "nbformat": 4,
 "nbformat_minor": 5
}
